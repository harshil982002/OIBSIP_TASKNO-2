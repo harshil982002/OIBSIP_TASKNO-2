{
 "cells": [
  {
   "cell_type": "code",
   "execution_count": 1,
   "metadata": {},
   "outputs": [],
   "source": [
    "import pandas as pd\n",
    "import matplotlib.pyplot as plt\n"
   ]
  },
  {
   "cell_type": "code",
   "execution_count": 2,
   "metadata": {},
   "outputs": [],
   "source": [
    "df = pd.read_csv(\"C:\\\\Users\\\\LENOVO\\\\Desktop\\\\Harshil Patel\\\\Unemployment in India.csv\")"
   ]
  },
  {
   "cell_type": "code",
   "execution_count": 3,
   "metadata": {},
   "outputs": [],
   "source": [
    "df.rename(columns={' Date': 'Date'}, inplace=True)\n",
    "df.rename(columns={' Frequency': 'Frequency'}, inplace=True)\n",
    "df.rename(columns={' Estimated Unemployment Rate': 'Estimated Unemployment Rate'}, inplace=True)\n",
    "df.rename(columns={' Estimated Employed': 'Estimated Employed'}, inplace=True)\n",
    "df.rename(columns={' Estimated Labour Participation Rate (%)': 'Estimated Labour Participation Rate (%)'}, inplace=True)"
   ]
  }
 ],
 "metadata": {
  "kernelspec": {
   "display_name": "base",
   "language": "python",
   "name": "python3"
  },
  "language_info": {
   "codemirror_mode": {
    "name": "ipython",
    "version": 3
   },
   "file_extension": ".py",
   "mimetype": "text/x-python",
   "name": "python",
   "nbconvert_exporter": "python",
   "pygments_lexer": "ipython3",
   "version": "3.10.9"
  },
  "orig_nbformat": 4
 },
 "nbformat": 4,
 "nbformat_minor": 2
}
